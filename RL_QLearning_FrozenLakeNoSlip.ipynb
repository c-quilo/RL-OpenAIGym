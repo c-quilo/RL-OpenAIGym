{
  "nbformat": 4,
  "nbformat_minor": 0,
  "metadata": {
    "colab": {
      "name": "RL-QLearning-FronLakeNoSlip.ipynb",
      "provenance": [],
      "collapsed_sections": [],
      "authorship_tag": "ABX9TyOAiSZ2T8w+ejpSq0f3Fe2O",
      "include_colab_link": true
    },
    "kernelspec": {
      "name": "python3",
      "display_name": "Python 3"
    }
  },
  "cells": [
    {
      "cell_type": "markdown",
      "metadata": {
        "id": "view-in-github",
        "colab_type": "text"
      },
      "source": [
        "<a href=\"https://colab.research.google.com/github/c-quilo/RL-OpenAIGym/blob/main/RL_QLearning_FrozenLakeNoSlip.ipynb\" target=\"_parent\"><img src=\"https://colab.research.google.com/assets/colab-badge.svg\" alt=\"Open In Colab\"/></a>"
      ]
    },
    {
      "cell_type": "markdown",
      "metadata": {
        "id": "Zzcq4e-zaHkv"
      },
      "source": [
        "Reinforcement learning exercises using OpenAI Gym\n",
        "Author: César Quilodrán-Casas\n",
        "Environment: Cart Pole v1 *italicised text*\n",
        "\n"
      ]
    },
    {
      "cell_type": "code",
      "metadata": {
        "colab": {
          "base_uri": "https://localhost:8080/"
        },
        "id": "6Ala0oqfZE3o",
        "outputId": "1de8f829-8f0f-4556-e9a5-65f51923f316"
      },
      "source": [
        "!pip install gym\n",
        "!pip install ipython"
      ],
      "execution_count": 47,
      "outputs": [
        {
          "output_type": "stream",
          "text": [
            "Requirement already satisfied: gym in /usr/local/lib/python3.7/dist-packages (0.17.3)\n",
            "Requirement already satisfied: cloudpickle<1.7.0,>=1.2.0 in /usr/local/lib/python3.7/dist-packages (from gym) (1.3.0)\n",
            "Requirement already satisfied: pyglet<=1.5.0,>=1.4.0 in /usr/local/lib/python3.7/dist-packages (from gym) (1.5.0)\n",
            "Requirement already satisfied: numpy>=1.10.4 in /usr/local/lib/python3.7/dist-packages (from gym) (1.19.5)\n",
            "Requirement already satisfied: scipy in /usr/local/lib/python3.7/dist-packages (from gym) (1.4.1)\n",
            "Requirement already satisfied: future in /usr/local/lib/python3.7/dist-packages (from pyglet<=1.5.0,>=1.4.0->gym) (0.16.0)\n",
            "Requirement already satisfied: ipython in /usr/local/lib/python3.7/dist-packages (5.5.0)\n",
            "Requirement already satisfied: pygments in /usr/local/lib/python3.7/dist-packages (from ipython) (2.6.1)\n",
            "Requirement already satisfied: pexpect; sys_platform != \"win32\" in /usr/local/lib/python3.7/dist-packages (from ipython) (4.8.0)\n",
            "Requirement already satisfied: pickleshare in /usr/local/lib/python3.7/dist-packages (from ipython) (0.7.5)\n",
            "Requirement already satisfied: simplegeneric>0.8 in /usr/local/lib/python3.7/dist-packages (from ipython) (0.8.1)\n",
            "Requirement already satisfied: prompt-toolkit<2.0.0,>=1.0.4 in /usr/local/lib/python3.7/dist-packages (from ipython) (1.0.18)\n",
            "Requirement already satisfied: traitlets>=4.2 in /usr/local/lib/python3.7/dist-packages (from ipython) (5.0.5)\n",
            "Requirement already satisfied: decorator in /usr/local/lib/python3.7/dist-packages (from ipython) (4.4.2)\n",
            "Requirement already satisfied: setuptools>=18.5 in /usr/local/lib/python3.7/dist-packages (from ipython) (54.0.0)\n",
            "Requirement already satisfied: ptyprocess>=0.5 in /usr/local/lib/python3.7/dist-packages (from pexpect; sys_platform != \"win32\"->ipython) (0.7.0)\n",
            "Requirement already satisfied: wcwidth in /usr/local/lib/python3.7/dist-packages (from prompt-toolkit<2.0.0,>=1.0.4->ipython) (0.2.5)\n",
            "Requirement already satisfied: six>=1.9.0 in /usr/local/lib/python3.7/dist-packages (from prompt-toolkit<2.0.0,>=1.0.4->ipython) (1.15.0)\n",
            "Requirement already satisfied: ipython-genutils in /usr/local/lib/python3.7/dist-packages (from traitlets>=4.2->ipython) (0.2.0)\n"
          ],
          "name": "stdout"
        }
      ]
    },
    {
      "cell_type": "code",
      "metadata": {
        "id": "KncwVBQmGMo7"
      },
      "source": [
        "#Load packages\n",
        "import gym\n",
        "import matplotlib.pyplot as plt\n",
        "import numpy as np\n",
        "import time\n",
        "from gym.envs.registration import register\n",
        "from IPython.display import clear_output"
      ],
      "execution_count": 48,
      "outputs": []
    },
    {
      "cell_type": "code",
      "metadata": {
        "id": "GGgACalCZput"
      },
      "source": [
        "try:\n",
        "    register(\n",
        "        id='FrozenLakeNoSlip-v0',\n",
        "        entry_point='gym.envs.toy_text:FrozenLakeEnv',\n",
        "        kwargs={'map_name' : '4x4', 'is_slippery':False},\n",
        "        max_episode_steps=100,\n",
        "        reward_threshold=0.78, # optimum = .8196\n",
        "    )\n",
        "except:\n",
        "    pass"
      ],
      "execution_count": 49,
      "outputs": []
    },
    {
      "cell_type": "code",
      "metadata": {
        "colab": {
          "base_uri": "https://localhost:8080/"
        },
        "id": "MNa5SeKyaU7d",
        "outputId": "f51c22ab-b3c1-4804-aec2-a49f528052c0"
      },
      "source": [
        "envName = 'CartPole-v1'\n",
        "envName = 'MountainCar-v0'\n",
        "envName = 'MountainCarContinuous-v0'\n",
        "envName = 'FrozenLakeNoSlip-v0'\n",
        "env = gym.make(envName)\n",
        "print('Observations:', env.observation_space)\n",
        "print('Actions: ', env.action_space)\n",
        "type(env.action_space)"
      ],
      "execution_count": 50,
      "outputs": [
        {
          "output_type": "stream",
          "text": [
            "Observations: Discrete(16)\n",
            "Actions:  Discrete(4)\n"
          ],
          "name": "stdout"
        },
        {
          "output_type": "execute_result",
          "data": {
            "text/plain": [
              "gym.spaces.discrete.Discrete"
            ]
          },
          "metadata": {
            "tags": []
          },
          "execution_count": 50
        }
      ]
    },
    {
      "cell_type": "code",
      "metadata": {
        "id": "Ut3uCWEwa5OF"
      },
      "source": [
        "#Define Agent\n",
        "class Agent():\n",
        "    def __init__(self, env):\n",
        "        self.is_discrete = \\\n",
        "            type(env.action_space) == gym.spaces.discrete.Discrete\n",
        "        \n",
        "        if self.is_discrete:\n",
        "            self.action_size = env.action_space.n\n",
        "            print('Action_size: ', self.action_size)\n",
        "        else:\n",
        "            self.action_low = env.action_space.low\n",
        "            self.action_high = env.action_space.high\n",
        "            self.action_shape = env.action_space.shape\n",
        "            print('Action_range: ', self.action_low, self.action_high)\n",
        "#Perform an action\n",
        "    def get_action(self, state):\n",
        "        if self.is_discrete:\n",
        "            action = np.random.choice(range(self.action_size))\n",
        "        else:\n",
        "            action = np.random.uniform(self.action_low,\n",
        "                                        self.action_high,\n",
        "                                        self.action_shape)\n",
        "        return action"
      ],
      "execution_count": 51,
      "outputs": []
    },
    {
      "cell_type": "code",
      "metadata": {
        "colab": {
          "base_uri": "https://localhost:8080/"
        },
        "id": "ahdJ0VCmpVCB",
        "outputId": "83024808-948b-4661-888d-0c861499d63d"
      },
      "source": [
        "class QAgent(Agent):\n",
        "    def __init__(self, env, discount_rate=0.95, learning_rate=0.001):\n",
        "        super().__init__(env)\n",
        "        self.state_size = env.observation_space.n\n",
        "        print('State size: ', self.state_size)\n",
        "\n",
        "        self.eps = 1.0\n",
        "        self.discount_rate = discount_rate\n",
        "        self.learning_rate = learning_rate\n",
        "        self.build_model()\n",
        "    \n",
        "    def build_model(self):\n",
        "      self.q_table = 1e-4*np.random.random([self.state_size, self.action_size])\n",
        "\n",
        "    def get_action(self, state):\n",
        "      q_state = self.q_table[state]\n",
        "      action_greedy = np.argmax(q_state)\n",
        "      action_random = super().get_action(state)\n",
        "      return action_random if np.random.random() < self.eps else action_greedy\n",
        "\n",
        "      return action\n",
        "    \n",
        "    def train(self, experience):\n",
        "      state, action, next_state, reward, done = experience\n",
        "      q_next = self.q_table[next_state]\n",
        "      q_next = np.zeros([self.action_size]) if done else q_next\n",
        "      q_target = reward + self.discount_rate * np.max(q_next)\n",
        "\n",
        "      q_update = q_target - self.q_table[state, action]\n",
        "      self.q_table[state, action] += self.learning_rate * q_update\n",
        "\n",
        "      if done:\n",
        "        self.eps = self.eps * 0.99\n",
        "    \n",
        "agent = QAgent(env)\n",
        "    "
      ],
      "execution_count": 76,
      "outputs": [
        {
          "output_type": "stream",
          "text": [
            "Action_size:  4\n",
            "State size:  16\n"
          ],
          "name": "stdout"
        }
      ]
    },
    {
      "cell_type": "code",
      "metadata": {
        "colab": {
          "base_uri": "https://localhost:8080/"
        },
        "id": "9s3tcAmmqMAI",
        "outputId": "3154ac4b-671d-48b8-ae00-a42300a2d1bf"
      },
      "source": [
        "#Training\n",
        "#Maximises reward\n",
        "total_reward = 0\n",
        "for episode in range(100):\n",
        "  state = env.reset()\n",
        "  done = False\n",
        "  while not done:\n",
        "    action = agent.get_action(state)\n",
        "    next_state, reward, done, info = env.step(action)\n",
        "    agent.train((state, action, next_state, reward, done))\n",
        "    state = next_state\n",
        "    total_reward += reward\n",
        "    print('s: ', state, 'a: ', action)\n",
        "    print('Episode: {}, Total reward: {}, epsilon: {}'.format(episode, total_reward, agent.eps))\n",
        "    env.render()\n",
        "    print(agent.q_table)\n",
        "    time.sleep(0.05)\n",
        "    clear_output(wait=True)"
      ],
      "execution_count": null,
      "outputs": [
        {
          "output_type": "stream",
          "text": [
            "s:  3 a:  2\n",
            "Episode: 31, Total reward: 2.0, epsilon: 0.1481449915475795\n",
            "  (Right)\n",
            "SFF\u001b[41mF\u001b[0m\n",
            "FHFH\n",
            "FFFH\n",
            "HFFG\n",
            "[[6.23026865e-05 4.29058603e-05 6.22896812e-05 2.87342663e-05]\n",
            " [4.67385245e-05 3.28165439e-05 3.99445321e-05 3.02268352e-05]\n",
            " [4.47021322e-05 3.67907160e-05 6.60732893e-05 4.44708587e-05]\n",
            " [8.60359119e-05 3.63309901e-05 3.97824063e-05 2.76835846e-05]\n",
            " [8.57773367e-05 1.62212413e-05 6.90219228e-05 8.96596927e-06]\n",
            " [4.35776084e-06 1.20477969e-05 1.18164412e-05 1.58321130e-06]\n",
            " [3.60570202e-05 9.96382857e-05 8.40680390e-05 4.66637516e-05]\n",
            " [7.61507853e-05 9.59043520e-05 3.37883445e-05 6.85605395e-05]\n",
            " [4.75917760e-05 6.29448560e-05 1.39352581e-05 5.91309924e-05]\n",
            " [8.02283365e-05 8.03461301e-05 3.62696555e-06 5.66640894e-05]\n",
            " [4.94396363e-06 6.42638052e-05 3.81254002e-05 1.74625813e-05]\n",
            " [5.46584474e-05 2.26470156e-05 9.30775431e-05 1.20985111e-06]\n",
            " [9.11367965e-05 2.64259302e-05 3.74925292e-05 8.19754896e-05]\n",
            " [4.32642488e-05 4.58113904e-05 8.55651610e-05 5.43255033e-05]\n",
            " [7.30057680e-05 6.14790704e-05 6.08049595e-03 3.63632308e-05]\n",
            " [2.01830033e-05 7.61409619e-05 4.64718922e-05 1.83259309e-05]]\n"
          ],
          "name": "stdout"
        }
      ]
    },
    {
      "cell_type": "code",
      "metadata": {
        "id": "_TMX134eG0JM"
      },
      "source": [
        ""
      ],
      "execution_count": null,
      "outputs": []
    }
  ]
}