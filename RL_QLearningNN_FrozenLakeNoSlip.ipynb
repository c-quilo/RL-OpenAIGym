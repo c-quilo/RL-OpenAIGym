{
  "nbformat": 4,
  "nbformat_minor": 0,
  "metadata": {
    "colab": {
      "name": "RL-QLearningNN-FrozenLakeNoSlip.ipynb",
      "provenance": [],
      "collapsed_sections": [],
      "authorship_tag": "ABX9TyOj1Tpqsn+kaUF3zIjjTYXW",
      "include_colab_link": true
    },
    "kernelspec": {
      "name": "python3",
      "display_name": "Python 3"
    }
  },
  "cells": [
    {
      "cell_type": "markdown",
      "metadata": {
        "id": "view-in-github",
        "colab_type": "text"
      },
      "source": [
        "<a href=\"https://colab.research.google.com/github/c-quilo/RL-OpenAIGym/blob/main/RL_QLearningNN_FrozenLakeNoSlip.ipynb\" target=\"_parent\"><img src=\"https://colab.research.google.com/assets/colab-badge.svg\" alt=\"Open In Colab\"/></a>"
      ]
    },
    {
      "cell_type": "markdown",
      "metadata": {
        "id": "Zzcq4e-zaHkv"
      },
      "source": [
        "Reinforcement learning exercises using OpenAI Gym\n",
        "Author: César Quilodrán-Casas\n",
        "Environment: Cart Pole v1 *italicised text*\n",
        "\n"
      ]
    },
    {
      "cell_type": "code",
      "metadata": {
        "colab": {
          "base_uri": "https://localhost:8080/"
        },
        "id": "6Ala0oqfZE3o",
        "outputId": "d4e2fc10-2842-475a-9dcf-c1a291226de7"
      },
      "source": [
        "!pip install gym\n",
        "!pip install ipython"
      ],
      "execution_count": 2,
      "outputs": [
        {
          "output_type": "stream",
          "text": [
            "Requirement already satisfied: gym in /usr/local/lib/python3.7/dist-packages (0.17.3)\n",
            "Requirement already satisfied: numpy>=1.10.4 in /usr/local/lib/python3.7/dist-packages (from gym) (1.19.5)\n",
            "Requirement already satisfied: scipy in /usr/local/lib/python3.7/dist-packages (from gym) (1.4.1)\n",
            "Requirement already satisfied: pyglet<=1.5.0,>=1.4.0 in /usr/local/lib/python3.7/dist-packages (from gym) (1.5.0)\n",
            "Requirement already satisfied: cloudpickle<1.7.0,>=1.2.0 in /usr/local/lib/python3.7/dist-packages (from gym) (1.3.0)\n",
            "Requirement already satisfied: future in /usr/local/lib/python3.7/dist-packages (from pyglet<=1.5.0,>=1.4.0->gym) (0.16.0)\n",
            "Requirement already satisfied: ipython in /usr/local/lib/python3.7/dist-packages (5.5.0)\n",
            "Requirement already satisfied: pygments in /usr/local/lib/python3.7/dist-packages (from ipython) (2.6.1)\n",
            "Requirement already satisfied: simplegeneric>0.8 in /usr/local/lib/python3.7/dist-packages (from ipython) (0.8.1)\n",
            "Requirement already satisfied: traitlets>=4.2 in /usr/local/lib/python3.7/dist-packages (from ipython) (5.0.5)\n",
            "Requirement already satisfied: decorator in /usr/local/lib/python3.7/dist-packages (from ipython) (4.4.2)\n",
            "Requirement already satisfied: setuptools>=18.5 in /usr/local/lib/python3.7/dist-packages (from ipython) (54.0.0)\n",
            "Requirement already satisfied: prompt-toolkit<2.0.0,>=1.0.4 in /usr/local/lib/python3.7/dist-packages (from ipython) (1.0.18)\n",
            "Requirement already satisfied: pickleshare in /usr/local/lib/python3.7/dist-packages (from ipython) (0.7.5)\n",
            "Requirement already satisfied: pexpect; sys_platform != \"win32\" in /usr/local/lib/python3.7/dist-packages (from ipython) (4.8.0)\n",
            "Requirement already satisfied: ipython-genutils in /usr/local/lib/python3.7/dist-packages (from traitlets>=4.2->ipython) (0.2.0)\n",
            "Requirement already satisfied: six>=1.9.0 in /usr/local/lib/python3.7/dist-packages (from prompt-toolkit<2.0.0,>=1.0.4->ipython) (1.15.0)\n",
            "Requirement already satisfied: wcwidth in /usr/local/lib/python3.7/dist-packages (from prompt-toolkit<2.0.0,>=1.0.4->ipython) (0.2.5)\n",
            "Requirement already satisfied: ptyprocess>=0.5 in /usr/local/lib/python3.7/dist-packages (from pexpect; sys_platform != \"win32\"->ipython) (0.7.0)\n"
          ],
          "name": "stdout"
        }
      ]
    },
    {
      "cell_type": "code",
      "metadata": {
        "id": "KncwVBQmGMo7",
        "colab": {
          "base_uri": "https://localhost:8080/"
        },
        "outputId": "c32c874a-da99-4990-a046-a01708fd9728"
      },
      "source": [
        "#Load packages\n",
        "import gym\n",
        "import matplotlib.pyplot as plt\n",
        "import numpy as np\n",
        "import tensorflow.compat.v1 as tf\n",
        "tf.disable_v2_behavior()\n",
        "import time\n",
        "from gym.envs.registration import register\n",
        "from IPython.display import clear_output"
      ],
      "execution_count": 16,
      "outputs": [
        {
          "output_type": "stream",
          "text": [
            "WARNING:tensorflow:From /usr/local/lib/python3.7/dist-packages/tensorflow/python/compat/v2_compat.py:96: disable_resource_variables (from tensorflow.python.ops.variable_scope) is deprecated and will be removed in a future version.\n",
            "Instructions for updating:\n",
            "non-resource variables are not supported in the long term\n"
          ],
          "name": "stdout"
        }
      ]
    },
    {
      "cell_type": "code",
      "metadata": {
        "id": "GGgACalCZput"
      },
      "source": [
        "try:\n",
        "    register(\n",
        "        id='FrozenLakeNoSlip-v0',\n",
        "        entry_point='gym.envs.toy_text:FrozenLakeEnv',\n",
        "        kwargs={'map_name' : '4x4', 'is_slippery':False},\n",
        "        max_episode_steps=100,\n",
        "        reward_threshold=0.78, # optimum = .8196\n",
        "    )\n",
        "except:\n",
        "    pass"
      ],
      "execution_count": 17,
      "outputs": []
    },
    {
      "cell_type": "code",
      "metadata": {
        "colab": {
          "base_uri": "https://localhost:8080/"
        },
        "id": "MNa5SeKyaU7d",
        "outputId": "7508238a-26d9-4a8e-a12c-c22cb29b4d79"
      },
      "source": [
        "envName = 'CartPole-v1'\n",
        "envName = 'MountainCar-v0'\n",
        "envName = 'MountainCarContinuous-v0'\n",
        "envName = 'FrozenLakeNoSlip-v0'\n",
        "env = gym.make(envName)\n",
        "print('Observations:', env.observation_space)\n",
        "print('Actions: ', env.action_space)\n",
        "type(env.action_space)"
      ],
      "execution_count": 18,
      "outputs": [
        {
          "output_type": "stream",
          "text": [
            "Observations: Discrete(16)\n",
            "Actions:  Discrete(4)\n"
          ],
          "name": "stdout"
        },
        {
          "output_type": "execute_result",
          "data": {
            "text/plain": [
              "gym.spaces.discrete.Discrete"
            ]
          },
          "metadata": {
            "tags": []
          },
          "execution_count": 18
        }
      ]
    },
    {
      "cell_type": "code",
      "metadata": {
        "id": "Ut3uCWEwa5OF"
      },
      "source": [
        "#Define Agent\n",
        "\n",
        "class Agent():\n",
        "    def __init__(self, env):\n",
        "        self.is_discrete = \\\n",
        "            type(env.action_space) == gym.spaces.discrete.Discrete\n",
        "        \n",
        "        if self.is_discrete:\n",
        "            self.action_size = env.action_space.n\n",
        "            print('Action_size: ', self.action_size)\n",
        "        else:\n",
        "            self.action_low = env.action_space.low\n",
        "            self.action_high = env.action_space.high\n",
        "            self.action_shape = env.action_space.shape\n",
        "            print('Action_range: ', self.action_low, self.action_high)\n",
        "#Perform an action\n",
        "    def get_action(self, state):\n",
        "        if self.is_discrete:\n",
        "            action = np.random.choice(range(self.action_size))\n",
        "        else:\n",
        "            action = np.random.uniform(self.action_low,\n",
        "                                        self.action_high,\n",
        "                                        self.action_shape)\n",
        "        return action"
      ],
      "execution_count": 19,
      "outputs": []
    },
    {
      "cell_type": "code",
      "metadata": {
        "colab": {
          "base_uri": "https://localhost:8080/"
        },
        "id": "ahdJ0VCmpVCB",
        "outputId": "50507cff-a2a0-4c21-b023-920e4cf9e3c8"
      },
      "source": [
        "class QNNAgent(Agent):\n",
        "    def __init__(self, env, discount_rate=0.95, learning_rate=0.1):\n",
        "        super().__init__(env)\n",
        "        self.state_size = env.observation_space.n\n",
        "        print('State size: ', self.state_size)\n",
        "\n",
        "        self.eps = 1.0\n",
        "        self.discount_rate = discount_rate\n",
        "        self.learning_rate = learning_rate\n",
        "        self.build_model()\n",
        "\n",
        "        self.sess = tf.Session()\n",
        "        self.sess.run(tf.global_variables_initializer())\n",
        "    \n",
        "    def build_model(self):\n",
        "        self.state_in = tf.placeholder(tf.int32, shape=[1]) \n",
        "        self.action_in = tf.placeholder(tf.int32, shape=[1])\n",
        "        self.target_in = tf.placeholder(tf.float32, shape=[1])\n",
        "\n",
        "        self.state = tf.one_hot(self.state_in, depth=self.state_size)\n",
        "        self.action = tf.one_hot(self.action_in, depth=self.action_size)\n",
        "\n",
        "        self.q_state = tf.layers.dense(self.state, units=self.action_size)\n",
        "        self.q_action = tf.reduce_sum(tf.multiply(self.q_state, self.action), axis=1)\n",
        "\n",
        "        self.loss = tf.reduce_sum(tf.square(self.target_in - self.q_action))\n",
        "        self.optimizer = tf.train.AdamOptimizer(self.learning_rate).minimize(self.loss)\n",
        "\n",
        "    def get_action(self, state):\n",
        "      q_state = self.q_table[state]\n",
        "      #Choose between an action from the q-table and a random action for the agent to explore\n",
        "      action_greedy = np.argmax(q_state)\n",
        "      action_random = super().get_action(state)\n",
        "      return action_random if np.random.random() < self.eps else action_greedy\n",
        "\n",
        "      return action\n",
        "    \n",
        "    def train(self, experience):\n",
        "      state, action, next_state, reward, done = experience\n",
        "      q_next = self.q_table[next_state]\n",
        "      q_next = np.zeros([self.action_size]) if done else q_next\n",
        "      q_target = reward + self.discount_rate * np.max(q_next)\n",
        "\n",
        "      q_update = q_target - self.q_table[state, action]\n",
        "      self.q_table[state, action] += self.learning_rate * q_update\n",
        "\n",
        "      if done:\n",
        "        self.eps = self.eps * 0.99\n",
        "    \n",
        "    def __del__(self):\n",
        "      self.sess.close()\n",
        "    \n",
        "agent = QAgent(env)\n",
        "    "
      ],
      "execution_count": 21,
      "outputs": [
        {
          "output_type": "stream",
          "text": [
            "Action_size:  4\n",
            "State size:  16\n"
          ],
          "name": "stdout"
        },
        {
          "output_type": "stream",
          "text": [
            "/usr/local/lib/python3.7/dist-packages/tensorflow/python/keras/legacy_tf_layers/core.py:171: UserWarning: `tf.layers.dense` is deprecated and will be removed in a future version. Please use `tf.keras.layers.Dense` instead.\n",
            "  warnings.warn('`tf.layers.dense` is deprecated and '\n",
            "/usr/local/lib/python3.7/dist-packages/tensorflow/python/keras/engine/base_layer_v1.py:1719: UserWarning: `layer.apply` is deprecated and will be removed in a future version. Please use `layer.__call__` method instead.\n",
            "  warnings.warn('`layer.apply` is deprecated and '\n"
          ],
          "name": "stderr"
        }
      ]
    },
    {
      "cell_type": "code",
      "metadata": {
        "colab": {
          "base_uri": "https://localhost:8080/"
        },
        "id": "9s3tcAmmqMAI",
        "outputId": "1c2addfe-72c1-4324-820c-22c7143999de"
      },
      "source": [
        "#Training\n",
        "#Maximises reward\n",
        "total_reward = 0\n",
        "for episode in range(100):\n",
        "  state = env.reset()\n",
        "  done = False\n",
        "  while not done:\n",
        "    action = agent.get_action(state)\n",
        "    next_state, reward, done, info = env.step(action)\n",
        "    agent.train((state, action, next_state, reward, done))\n",
        "    state = next_state\n",
        "    total_reward += reward\n",
        "    print('s: ', state, 'a: ', action)\n",
        "    print('Episode: {}, Total reward: {}, epsilon: {}'.format(episode, total_reward, agent.eps))\n",
        "    env.render()\n",
        "    print(agent.q_table)\n",
        "    time.sleep(0.05)\n",
        "    clear_output(wait=True)"
      ],
      "execution_count": null,
      "outputs": [
        {
          "output_type": "stream",
          "text": [
            "s:  12 a:  0\n",
            "Episode: 99, Total reward: 12.0, epsilon: 0.36603234127322926\n",
            "  (Left)\n",
            "SFFF\n",
            "FHFH\n",
            "FFFH\n",
            "\u001b[41mH\u001b[0mFFG\n",
            "[[2.91440919e-04 8.71214745e-05 8.19162848e-03 8.40021514e-05]\n",
            " [7.43115725e-05 1.22568721e-05 2.81473544e-02 2.06665906e-03]\n",
            " [2.86599702e-03 7.39261672e-02 2.85902884e-04 2.19926490e-03]\n",
            " [1.96653082e-03 1.26222413e-05 1.24593193e-04 6.76594177e-05]\n",
            " [5.88403518e-05 6.49655913e-05 4.32237813e-06 4.97434186e-04]\n",
            " [9.86276052e-05 8.06435554e-05 9.83435040e-05 4.06658820e-05]\n",
            " [5.57330681e-05 1.91746526e-01 2.58832967e-05 2.01658457e-03]\n",
            " [9.15415030e-05 2.49688128e-05 9.87010950e-05 7.84364143e-05]\n",
            " [6.55820021e-05 2.04561497e-06 5.52787292e-05 1.07083816e-04]\n",
            " [6.26433193e-05 3.21534114e-05 2.15931612e-05 3.65026662e-05]\n",
            " [5.09617192e-05 3.67809589e-01 6.49385295e-05 1.69288608e-02]\n",
            " [3.48700751e-05 8.98671919e-05 7.55113923e-05 2.35553166e-05]\n",
            " [7.12331059e-05 7.06591614e-05 8.59991018e-06 9.94094805e-05]\n",
            " [1.96832446e-05 4.23524141e-05 9.19312244e-05 4.68439883e-05]\n",
            " [3.93893733e-05 7.44602667e-02 7.17583663e-01 5.60541077e-06]\n",
            " [7.25513270e-05 7.70475413e-05 7.40787215e-05 7.23048668e-05]]\n"
          ],
          "name": "stdout"
        }
      ]
    }
  ]
}